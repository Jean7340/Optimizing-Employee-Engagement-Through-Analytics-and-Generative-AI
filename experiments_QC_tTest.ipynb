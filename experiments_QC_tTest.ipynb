{
 "cells": [
  {
   "cell_type": "code",
   "execution_count": 1,
   "metadata": {
    "id": "OmN4nZm93IEZ"
   },
   "outputs": [],
   "source": [
    "import numpy as np\n",
    "import pandas as pd\n",
    "\n",
    "from scipy import stats\n"
   ]
  },
  {
   "cell_type": "markdown",
   "metadata": {
    "id": "IEMt0hUCfcDM"
   },
   "source": [
    "## Quality Control Experiment: Inspection of Surface Quality of Strip\n",
    "\n",
    "A manufacturing company performed experimental trials to measure the efficacy of a new AI camera vision inspection system for their customers who have extermely low tolerances for surface defects on their brass strip.  \n",
    "\n",
    "QC Inspectors were randomly assigned to two groups: a control group who performed manual inspection of the strip as usual, and a linescan camera inspection group who used the AI system to identify surface defects.  The inspection results for both groups was audited for a period of two weeks and the results (in % of defects missed) were recorded in the output data file.\n"
   ]
  },
  {
   "cell_type": "code",
   "execution_count": 2,
   "metadata": {
    "colab": {
     "base_uri": "https://localhost:8080/",
     "height": 455
    },
    "id": "jjWttkAH3U-Z",
    "outputId": "668b3f04-4b3d-4e90-c27f-76d0507fae21"
   },
   "outputs": [
    {
     "data": {
      "text/html": [
       "<div>\n",
       "<style scoped>\n",
       "    .dataframe tbody tr th:only-of-type {\n",
       "        vertical-align: middle;\n",
       "    }\n",
       "\n",
       "    .dataframe tbody tr th {\n",
       "        vertical-align: top;\n",
       "    }\n",
       "\n",
       "    .dataframe thead th {\n",
       "        text-align: right;\n",
       "    }\n",
       "</style>\n",
       "<table border=\"1\" class=\"dataframe\">\n",
       "  <thead>\n",
       "    <tr style=\"text-align: right;\">\n",
       "      <th></th>\n",
       "      <th>Group</th>\n",
       "      <th>Audit_Results</th>\n",
       "    </tr>\n",
       "    <tr>\n",
       "      <th>QC_ID</th>\n",
       "      <th></th>\n",
       "      <th></th>\n",
       "    </tr>\n",
       "  </thead>\n",
       "  <tbody>\n",
       "    <tr>\n",
       "      <th>1000</th>\n",
       "      <td>Manual Inspection</td>\n",
       "      <td>0.023413</td>\n",
       "    </tr>\n",
       "    <tr>\n",
       "      <th>1002</th>\n",
       "      <td>Linescan Camera Inspection</td>\n",
       "      <td>0.031036</td>\n",
       "    </tr>\n",
       "    <tr>\n",
       "      <th>1006</th>\n",
       "      <td>Linescan Camera Inspection</td>\n",
       "      <td>0.036586</td>\n",
       "    </tr>\n",
       "    <tr>\n",
       "      <th>1014</th>\n",
       "      <td>Linescan Camera Inspection</td>\n",
       "      <td>0.017999</td>\n",
       "    </tr>\n",
       "    <tr>\n",
       "      <th>1018</th>\n",
       "      <td>Manual Inspection</td>\n",
       "      <td>0.040784</td>\n",
       "    </tr>\n",
       "    <tr>\n",
       "      <th>...</th>\n",
       "      <td>...</td>\n",
       "      <td>...</td>\n",
       "    </tr>\n",
       "    <tr>\n",
       "      <th>1953</th>\n",
       "      <td>Manual Inspection</td>\n",
       "      <td>0.024757</td>\n",
       "    </tr>\n",
       "    <tr>\n",
       "      <th>1958</th>\n",
       "      <td>Linescan Camera Inspection</td>\n",
       "      <td>0.038208</td>\n",
       "    </tr>\n",
       "    <tr>\n",
       "      <th>1962</th>\n",
       "      <td>Manual Inspection</td>\n",
       "      <td>0.036437</td>\n",
       "    </tr>\n",
       "    <tr>\n",
       "      <th>1966</th>\n",
       "      <td>Linescan Camera Inspection</td>\n",
       "      <td>0.041254</td>\n",
       "    </tr>\n",
       "    <tr>\n",
       "      <th>1989</th>\n",
       "      <td>Linescan Camera Inspection</td>\n",
       "      <td>0.040103</td>\n",
       "    </tr>\n",
       "  </tbody>\n",
       "</table>\n",
       "<p>154 rows × 2 columns</p>\n",
       "</div>"
      ],
      "text/plain": [
       "                            Group  Audit_Results\n",
       "QC_ID                                           \n",
       "1000            Manual Inspection       0.023413\n",
       "1002   Linescan Camera Inspection       0.031036\n",
       "1006   Linescan Camera Inspection       0.036586\n",
       "1014   Linescan Camera Inspection       0.017999\n",
       "1018            Manual Inspection       0.040784\n",
       "...                           ...            ...\n",
       "1953            Manual Inspection       0.024757\n",
       "1958   Linescan Camera Inspection       0.038208\n",
       "1962            Manual Inspection       0.036437\n",
       "1966   Linescan Camera Inspection       0.041254\n",
       "1989   Linescan Camera Inspection       0.040103\n",
       "\n",
       "[154 rows x 2 columns]"
      ]
     },
     "execution_count": 2,
     "metadata": {},
     "output_type": "execute_result"
    }
   ],
   "source": [
    "data = pd.read_csv('data_experiments_QCInsp.csv')\n",
    "data = data.set_index('QC_ID')\n",
    "data"
   ]
  },
  {
   "cell_type": "code",
   "execution_count": 10,
   "metadata": {},
   "outputs": [
    {
     "data": {
      "text/plain": [
       "Group\n",
       "Linescan Camera Inspection    0.036227\n",
       "Manual Inspection             0.040451\n",
       "Name: Audit_Results, dtype: float64"
      ]
     },
     "execution_count": 10,
     "metadata": {},
     "output_type": "execute_result"
    }
   ],
   "source": [
    "mean_audit_results = data.groupby(\"Group\")[\"Audit_Results\"].mean()\n",
    "mean_audit_results"
   ]
  },
  {
   "cell_type": "code",
   "execution_count": 11,
   "metadata": {},
   "outputs": [
    {
     "data": {
      "text/plain": [
       "0.004224295298701296"
      ]
     },
     "execution_count": 11,
     "metadata": {},
     "output_type": "execute_result"
    }
   ],
   "source": [
    "difference_in_means = abs(mean_audit_results[\"Manual Inspection\"] \\\n",
    "                          - mean_audit_results[\"Linescan Camera Inspection\"])\n",
    "difference_in_means"
   ]
  },
  {
   "cell_type": "markdown",
   "metadata": {
    "id": "dJ-QNUV2fwR2"
   },
   "source": [
    "## Independent Samples T-test\n"
   ]
  },
  {
   "cell_type": "code",
   "execution_count": 6,
   "metadata": {
    "colab": {
     "base_uri": "https://localhost:8080/"
    },
    "id": "2gZPqXMROpNi",
    "outputId": "62ee5616-0fbb-4620-b058-861ef83af960"
   },
   "outputs": [
    {
     "data": {
      "text/plain": [
       "TtestResult(statistic=2.739837786326116, pvalue=0.006882937710926736, df=152.0)"
      ]
     },
     "execution_count": 6,
     "metadata": {},
     "output_type": "execute_result"
    }
   ],
   "source": [
    "A = data[data['Group'] == 'Manual Inspection']\n",
    "B = data[data['Group'] == 'Linescan Camera Inspection']\n",
    "\n",
    "stats.ttest_ind(A['Audit_Results'], B['Audit_Results'])\n"
   ]
  }
 ],
 "metadata": {
  "colab": {
   "provenance": []
  },
  "kernelspec": {
   "display_name": "Python 3 (ipykernel)",
   "language": "python",
   "name": "python3"
  },
  "language_info": {
   "codemirror_mode": {
    "name": "ipython",
    "version": 3
   },
   "file_extension": ".py",
   "mimetype": "text/x-python",
   "name": "python",
   "nbconvert_exporter": "python",
   "pygments_lexer": "ipython3",
   "version": "3.12.7"
  }
 },
 "nbformat": 4,
 "nbformat_minor": 4
}
